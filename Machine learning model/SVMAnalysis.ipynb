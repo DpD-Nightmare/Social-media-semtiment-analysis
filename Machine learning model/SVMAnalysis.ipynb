{
 "cells": [
  {
   "cell_type": "markdown",
   "id": "9d0194cc",
   "metadata": {},
   "source": [
    "# AUS tweets sentiment on the goverment medates"
   ]
  },
  {
   "cell_type": "markdown",
   "id": "ca731fef",
   "metadata": {},
   "source": [
    "## Import the key libraires"
   ]
  },
  {
   "cell_type": "code",
   "execution_count": 1,
   "id": "e8131229",
   "metadata": {},
   "outputs": [],
   "source": [
    "#Load the function libraries into the proramming enviroment\n",
    "import numpy as np\n",
    "import pandas as pd\n",
    "\n",
    "#Load the tokenizer and the text feature extractor libraires into the programming\n",
    "from sklearn.feature_extraction.text import CountVectorizer\n",
    "from sklearn.feature_extraction.text import TfidfVectorizer\n",
    "\n",
    "#Basic data process and splitting tool loading...\n",
    "from sklearn.model_selection import train_test_split\n",
    "\n",
    "#Import the support vector machine model into the programming\n",
    "from sklearn.svm import SVC\n",
    "\n",
    "#Perfromacne analysis libray \n",
    "from sklearn.metrics import confusion_matrix\n",
    "from sklearn.metrics import classification_report\n"
   ]
  },
  {
   "cell_type": "code",
   "execution_count": 2,
   "id": "dbe3d6e8",
   "metadata": {},
   "outputs": [],
   "source": [
    "#Define the counter vectorisers\n",
    "counter_v = 'count_v'\n",
    "counter_t = 'count_t'\n",
    "\n",
    "def data_process_svm_model(dataset, vectoriser,random_state):\n",
    "    #Collecte the dataset and spleat the feature and the \n",
    "    x = dataset['Lemma']\n",
    "    y = dataset['Sentiment']\n",
    "    \n",
    "    #Extract the sentiment form the text lemma dataset by using the counter vectoriser dataset\n",
    "    cv = CountVectorizer()\n",
    "    tv = TfidfVectorizer()\n",
    "    \n",
    "    \n",
    "    #Tokenised the lemma dataset\n",
    "    #Funciton for the counter vectorieser\n",
    "    if vectoriser == 'count_v':\n",
    "        vec_feature= cv.fit_transform(x.astype('U'))\n",
    "        \n",
    "    #Function for the token id based vectoriser \n",
    "    elif vectoriser == 'count_t':\n",
    "        vec_feature = tv.fit_transform(x.astype('U'))\n",
    "        \n",
    "    \n",
    "    #Split the the dataset for the macine learning training and validation    \n",
    "    x_train, x_test, y_train, y_test = train_test_split(vec_feature,y, test_size=0.25, random_state=random_state)\n",
    "    from imblearn.over_sampling import SMOTE\n",
    "    sm = SMOTE(random_state=42)\n",
    "    x_train_smote, y_train_smote = sm.fit_resample(x_train, y_train)\n",
    "    #Support vector machine based machine learning model\n",
    "    C= 1.0\n",
    "    svc= SVC(kernel='linear', C=1).fit(x_train_smote,y_train_smote)\n",
    "    y_pred = svc.predict(x_test)\n",
    "    \n",
    "    print(\"No. of features in each class\\n \", y_train.value_counts())\n",
    "    print(\"No. of features in each class after SMOTE\\n \", y_train_smote.value_counts())\n",
    "    \n",
    "    \n",
    "    #Machine learning model perfromacne analysis\n",
    "    print('model confusion matrix\\n')\n",
    "    cmet = confusion_matrix(y_test,y_pred)\n",
    "    print(cmet,'\\n')\n",
    "    print('model classificaiton report\\n')\n",
    "    print(classification_report(y_pred,y_test))"
   ]
  },
  {
   "cell_type": "code",
   "execution_count": null,
   "id": "e1d08de2",
   "metadata": {},
   "outputs": [],
   "source": []
  },
  {
   "cell_type": "markdown",
   "id": "191785c6",
   "metadata": {},
   "source": [
    "# Face mask sentiment analysis using SVM"
   ]
  },
  {
   "cell_type": "code",
   "execution_count": 3,
   "id": "9e7f7758",
   "metadata": {},
   "outputs": [
    {
     "data": {
      "text/html": [
       "<div>\n",
       "<style scoped>\n",
       "    .dataframe tbody tr th:only-of-type {\n",
       "        vertical-align: middle;\n",
       "    }\n",
       "\n",
       "    .dataframe tbody tr th {\n",
       "        vertical-align: top;\n",
       "    }\n",
       "\n",
       "    .dataframe thead th {\n",
       "        text-align: right;\n",
       "    }\n",
       "</style>\n",
       "<table border=\"1\" class=\"dataframe\">\n",
       "  <thead>\n",
       "    <tr style=\"text-align: right;\">\n",
       "      <th></th>\n",
       "      <th>date</th>\n",
       "      <th>content</th>\n",
       "      <th>POS_tagged</th>\n",
       "      <th>Lemma</th>\n",
       "      <th>Polarity</th>\n",
       "      <th>Sentiment</th>\n",
       "    </tr>\n",
       "  </thead>\n",
       "  <tbody>\n",
       "    <tr>\n",
       "      <th>0</th>\n",
       "      <td>2020-12-31 23:46:53+00:00</td>\n",
       "      <td>victorian health minister clarified rules arou...</td>\n",
       "      <td>[('victorian', 'a'), ('health', 'n'), ('minist...</td>\n",
       "      <td>victorianhealthministerclarifyrulearoundmaskin...</td>\n",
       "      <td>0.0</td>\n",
       "      <td>0</td>\n",
       "    </tr>\n",
       "    <tr>\n",
       "      <th>1</th>\n",
       "      <td>2020-12-31 23:22:47+00:00</td>\n",
       "      <td>1996367 @_teslatom _ev 2playa 66 michael. thin...</td>\n",
       "      <td>[('1996367', None), ('@', 'a'), ('_teslatom', ...</td>\n",
       "      <td>1996367@_teslatom_ev2playa66michael.thinkbugfi...</td>\n",
       "      <td>0.0</td>\n",
       "      <td>0</td>\n",
       "    </tr>\n",
       "    <tr>\n",
       "      <th>2</th>\n",
       "      <td>2020-12-31 22:46:38+00:00</td>\n",
       "      <td>mask 😷 wearing deemed much burden ppl nsw acco...</td>\n",
       "      <td>[('mask', 'n'), ('😷', None), ('wearing', 'n'),...</td>\n",
       "      <td>mask😷wearingdeemmuchburdenpplnswaccord.cricket...</td>\n",
       "      <td>0.0</td>\n",
       "      <td>0</td>\n",
       "    </tr>\n",
       "    <tr>\n",
       "      <th>3</th>\n",
       "      <td>2020-12-31 22:29:51+00:00</td>\n",
       "      <td>@_teslatom _ev 1996367 2playa 66 happy 2020.48...</td>\n",
       "      <td>[('@', 'a'), ('_teslatom', 'n'), ('_ev', 'n'),...</td>\n",
       "      <td>@_teslatom_ev19963672playa66happy2020.48.30guy😂🙏💥</td>\n",
       "      <td>0.0</td>\n",
       "      <td>0</td>\n",
       "    </tr>\n",
       "    <tr>\n",
       "      <th>4</th>\n",
       "      <td>2020-12-31 22:23:13+00:00</td>\n",
       "      <td>ludicrous, takes entire press conference expla...</td>\n",
       "      <td>[('ludicrous', 'a'), (',', None), ('takes', 'v...</td>\n",
       "      <td>ludicrous,takeentirepressconferenceexplain“rul...</td>\n",
       "      <td>0.0</td>\n",
       "      <td>0</td>\n",
       "    </tr>\n",
       "  </tbody>\n",
       "</table>\n",
       "</div>"
      ],
      "text/plain": [
       "                        date  \\\n",
       "0  2020-12-31 23:46:53+00:00   \n",
       "1  2020-12-31 23:22:47+00:00   \n",
       "2  2020-12-31 22:46:38+00:00   \n",
       "3  2020-12-31 22:29:51+00:00   \n",
       "4  2020-12-31 22:23:13+00:00   \n",
       "\n",
       "                                             content  \\\n",
       "0  victorian health minister clarified rules arou...   \n",
       "1  1996367 @_teslatom _ev 2playa 66 michael. thin...   \n",
       "2  mask 😷 wearing deemed much burden ppl nsw acco...   \n",
       "3  @_teslatom _ev 1996367 2playa 66 happy 2020.48...   \n",
       "4  ludicrous, takes entire press conference expla...   \n",
       "\n",
       "                                          POS_tagged  \\\n",
       "0  [('victorian', 'a'), ('health', 'n'), ('minist...   \n",
       "1  [('1996367', None), ('@', 'a'), ('_teslatom', ...   \n",
       "2  [('mask', 'n'), ('😷', None), ('wearing', 'n'),...   \n",
       "3  [('@', 'a'), ('_teslatom', 'n'), ('_ev', 'n'),...   \n",
       "4  [('ludicrous', 'a'), (',', None), ('takes', 'v...   \n",
       "\n",
       "                                               Lemma  Polarity  Sentiment  \n",
       "0  victorianhealthministerclarifyrulearoundmaskin...       0.0          0  \n",
       "1  1996367@_teslatom_ev2playa66michael.thinkbugfi...       0.0          0  \n",
       "2  mask😷wearingdeemmuchburdenpplnswaccord.cricket...       0.0          0  \n",
       "3  @_teslatom_ev19963672playa66happy2020.48.30guy😂🙏💥       0.0          0  \n",
       "4  ludicrous,takeentirepressconferenceexplain“rul...       0.0          0  "
      ]
     },
     "execution_count": 3,
     "metadata": {},
     "output_type": "execute_result"
    }
   ],
   "source": [
    "#Load the dataset\n",
    "mask_data= pd.read_csv('face_mask_sentiment_score.csv')\n",
    "mask_data.head()#Print the head of the dataset"
   ]
  },
  {
   "cell_type": "markdown",
   "id": "784ad881",
   "metadata": {},
   "source": [
    "## Model with the counter vectorizer"
   ]
  },
  {
   "cell_type": "code",
   "execution_count": 4,
   "id": "9a918f0c",
   "metadata": {},
   "outputs": [
    {
     "name": "stdout",
     "output_type": "stream",
     "text": [
      "No. of features in each class\n",
      "   0    8751\n",
      " 1     140\n",
      "-1      58\n",
      "Name: Sentiment, dtype: int64\n",
      "No. of features in each class after SMOTE\n",
      "   0    8751\n",
      "-1    8751\n",
      " 1    8751\n",
      "Name: Sentiment, dtype: int64\n",
      "model confusion matrix\n",
      "\n",
      "[[   8    7    0]\n",
      " [1997  862   67]\n",
      " [  17   20    6]] \n",
      "\n",
      "model classificaiton report\n",
      "\n",
      "              precision    recall  f1-score   support\n",
      "\n",
      "          -1       0.53      0.00      0.01      2022\n",
      "           0       0.29      0.97      0.45       889\n",
      "           1       0.14      0.08      0.10        73\n",
      "\n",
      "    accuracy                           0.29      2984\n",
      "   macro avg       0.32      0.35      0.19      2984\n",
      "weighted avg       0.45      0.29      0.14      2984\n",
      "\n"
     ]
    }
   ],
   "source": [
    "mask_score = data_process_svm_model(mask_data,counter_v, random_state=11)"
   ]
  },
  {
   "cell_type": "markdown",
   "id": "b7c7b7be",
   "metadata": {},
   "source": [
    "## Model with the TFID Vectorizer"
   ]
  },
  {
   "cell_type": "code",
   "execution_count": 5,
   "id": "c6ecdc6d",
   "metadata": {},
   "outputs": [
    {
     "name": "stdout",
     "output_type": "stream",
     "text": [
      "No. of features in each class\n",
      "   0    8768\n",
      " 1     131\n",
      "-1      50\n",
      "Name: Sentiment, dtype: int64\n",
      "No. of features in each class after SMOTE\n",
      "   0    8768\n",
      "-1    8768\n",
      " 1    8768\n",
      "Name: Sentiment, dtype: int64\n",
      "model confusion matrix\n",
      "\n",
      "[[   3   20    0]\n",
      " [   2 2854   53]\n",
      " [   0   32   20]] \n",
      "\n",
      "model classificaiton report\n",
      "\n",
      "              precision    recall  f1-score   support\n",
      "\n",
      "          -1       0.13      0.60      0.21         5\n",
      "           0       0.98      0.98      0.98      2906\n",
      "           1       0.38      0.27      0.32        73\n",
      "\n",
      "    accuracy                           0.96      2984\n",
      "   macro avg       0.50      0.62      0.51      2984\n",
      "weighted avg       0.97      0.96      0.96      2984\n",
      "\n"
     ]
    }
   ],
   "source": [
    "mask_score_tfid = data_process_svm_model(mask_data,counter_t, random_state=7)"
   ]
  },
  {
   "cell_type": "markdown",
   "id": "6e23695a",
   "metadata": {},
   "source": [
    "# Lockdown Sentiment analysis using the machine learning model"
   ]
  },
  {
   "cell_type": "code",
   "execution_count": 6,
   "id": "fbf2ed1a",
   "metadata": {},
   "outputs": [
    {
     "data": {
      "text/html": [
       "<div>\n",
       "<style scoped>\n",
       "    .dataframe tbody tr th:only-of-type {\n",
       "        vertical-align: middle;\n",
       "    }\n",
       "\n",
       "    .dataframe tbody tr th {\n",
       "        vertical-align: top;\n",
       "    }\n",
       "\n",
       "    .dataframe thead th {\n",
       "        text-align: right;\n",
       "    }\n",
       "</style>\n",
       "<table border=\"1\" class=\"dataframe\">\n",
       "  <thead>\n",
       "    <tr style=\"text-align: right;\">\n",
       "      <th></th>\n",
       "      <th>date</th>\n",
       "      <th>content</th>\n",
       "      <th>POS_tagged</th>\n",
       "      <th>Lemma</th>\n",
       "      <th>Polarity</th>\n",
       "      <th>Sentiment</th>\n",
       "    </tr>\n",
       "  </thead>\n",
       "  <tbody>\n",
       "    <tr>\n",
       "      <th>0</th>\n",
       "      <td>2020-10-30 23:56:05+00:00</td>\n",
       "      <td>lockdown works short term. ultimately best str...</td>\n",
       "      <td>[('lockdown', 'a'), ('works', 'v'), ('short', ...</td>\n",
       "      <td>lockdownworkshortterm.ultimatelybeststrategylo...</td>\n",
       "      <td>0.0</td>\n",
       "      <td>0</td>\n",
       "    </tr>\n",
       "    <tr>\n",
       "      <th>1</th>\n",
       "      <td>2020-10-30 23:48:39+00:00</td>\n",
       "      <td>finish inktober2020 smile. thank reacted, comm...</td>\n",
       "      <td>[('finish', 'a'), ('inktober2020', 'n'), ('smi...</td>\n",
       "      <td>finishinktober2020smile.thankreact,comment,sha...</td>\n",
       "      <td>0.0</td>\n",
       "      <td>0</td>\n",
       "    </tr>\n",
       "    <tr>\n",
       "      <th>2</th>\n",
       "      <td>2020-10-30 23:32:28+00:00</td>\n",
       "      <td>lmao melb defs going 3rd 4th lockdown. people ...</td>\n",
       "      <td>[('lmao', 'n'), ('melb', 'n'), ('defs', 'v'), ...</td>\n",
       "      <td>lmaomelbdefsgo3rd4thlockdown.peoplefully’</td>\n",
       "      <td>0.0</td>\n",
       "      <td>0</td>\n",
       "    </tr>\n",
       "    <tr>\n",
       "      <th>3</th>\n",
       "      <td>2020-10-30 23:26:27+00:00</td>\n",
       "      <td>im sorry, britain. boris failed again. 4 weeks...</td>\n",
       "      <td>[('im', 'n'), ('sorry', 'n'), (',', None), ('b...</td>\n",
       "      <td>imsorry,britain.borisfail.4weeksagesayimplemen...</td>\n",
       "      <td>0.0</td>\n",
       "      <td>0</td>\n",
       "    </tr>\n",
       "    <tr>\n",
       "      <th>4</th>\n",
       "      <td>2020-10-30 21:58:31+00:00</td>\n",
       "      <td>wish people thought you. it’s really awful see...</td>\n",
       "      <td>[('wish', 'a'), ('people', 'n'), ('thought', '...</td>\n",
       "      <td>wishpeoplethink.’reallyawfulseemanycasedeath.e...</td>\n",
       "      <td>0.0</td>\n",
       "      <td>0</td>\n",
       "    </tr>\n",
       "  </tbody>\n",
       "</table>\n",
       "</div>"
      ],
      "text/plain": [
       "                        date  \\\n",
       "0  2020-10-30 23:56:05+00:00   \n",
       "1  2020-10-30 23:48:39+00:00   \n",
       "2  2020-10-30 23:32:28+00:00   \n",
       "3  2020-10-30 23:26:27+00:00   \n",
       "4  2020-10-30 21:58:31+00:00   \n",
       "\n",
       "                                             content  \\\n",
       "0  lockdown works short term. ultimately best str...   \n",
       "1  finish inktober2020 smile. thank reacted, comm...   \n",
       "2  lmao melb defs going 3rd 4th lockdown. people ...   \n",
       "3  im sorry, britain. boris failed again. 4 weeks...   \n",
       "4  wish people thought you. it’s really awful see...   \n",
       "\n",
       "                                          POS_tagged  \\\n",
       "0  [('lockdown', 'a'), ('works', 'v'), ('short', ...   \n",
       "1  [('finish', 'a'), ('inktober2020', 'n'), ('smi...   \n",
       "2  [('lmao', 'n'), ('melb', 'n'), ('defs', 'v'), ...   \n",
       "3  [('im', 'n'), ('sorry', 'n'), (',', None), ('b...   \n",
       "4  [('wish', 'a'), ('people', 'n'), ('thought', '...   \n",
       "\n",
       "                                               Lemma  Polarity  Sentiment  \n",
       "0  lockdownworkshortterm.ultimatelybeststrategylo...       0.0          0  \n",
       "1  finishinktober2020smile.thankreact,comment,sha...       0.0          0  \n",
       "2          lmaomelbdefsgo3rd4thlockdown.peoplefully’       0.0          0  \n",
       "3  imsorry,britain.borisfail.4weeksagesayimplemen...       0.0          0  \n",
       "4  wishpeoplethink.’reallyawfulseemanycasedeath.e...       0.0          0  "
      ]
     },
     "execution_count": 6,
     "metadata": {},
     "output_type": "execute_result"
    }
   ],
   "source": [
    "lockdown_data = pd.read_csv('lockdwon_sentiment_score.csv')\n",
    "lockdown_data.head()"
   ]
  },
  {
   "cell_type": "markdown",
   "id": "0b43d200",
   "metadata": {},
   "source": [
    "## Lockdown data sentiment analysis with the counter vectorizer"
   ]
  },
  {
   "cell_type": "code",
   "execution_count": 7,
   "id": "612762cc",
   "metadata": {},
   "outputs": [
    {
     "name": "stdout",
     "output_type": "stream",
     "text": [
      "No. of features in each class\n",
      "   0    9954\n",
      " 1     112\n",
      "-1      68\n",
      "Name: Sentiment, dtype: int64\n",
      "No. of features in each class after SMOTE\n",
      "   0    9954\n",
      "-1    9954\n",
      " 1    9954\n",
      "Name: Sentiment, dtype: int64\n",
      "model confusion matrix\n",
      "\n",
      "[[   7   10    5]\n",
      " [ 122  974 2236]\n",
      " [   0   11   14]] \n",
      "\n",
      "model classificaiton report\n",
      "\n",
      "              precision    recall  f1-score   support\n",
      "\n",
      "          -1       0.32      0.05      0.09       129\n",
      "           0       0.29      0.98      0.45       995\n",
      "           1       0.56      0.01      0.01      2255\n",
      "\n",
      "    accuracy                           0.29      3379\n",
      "   macro avg       0.39      0.35      0.19      3379\n",
      "weighted avg       0.47      0.29      0.14      3379\n",
      "\n"
     ]
    }
   ],
   "source": [
    "lockdown_socre = data_process_svm_model(lockdown_data,counter_v, random_state=9)"
   ]
  },
  {
   "cell_type": "markdown",
   "id": "d0821cfa",
   "metadata": {},
   "source": [
    "## Lockdown data sentiment analysis with the TFID vectorizer"
   ]
  },
  {
   "cell_type": "code",
   "execution_count": 8,
   "id": "0b55e258",
   "metadata": {},
   "outputs": [
    {
     "name": "stdout",
     "output_type": "stream",
     "text": [
      "No. of features in each class\n",
      "   0    9971\n",
      " 1     106\n",
      "-1      57\n",
      "Name: Sentiment, dtype: int64\n",
      "No. of features in each class after SMOTE\n",
      "   0    9971\n",
      "-1    9971\n",
      " 1    9971\n",
      "Name: Sentiment, dtype: int64\n",
      "model confusion matrix\n",
      "\n",
      "[[   1   32    0]\n",
      " [   0 3315    0]\n",
      " [   1   30    0]] \n",
      "\n",
      "model classificaiton report\n",
      "\n",
      "              precision    recall  f1-score   support\n",
      "\n",
      "          -1       0.03      0.50      0.06         2\n",
      "           0       1.00      0.98      0.99      3377\n",
      "           1       0.00      0.00      0.00         0\n",
      "\n",
      "    accuracy                           0.98      3379\n",
      "   macro avg       0.34      0.49      0.35      3379\n",
      "weighted avg       1.00      0.98      0.99      3379\n",
      "\n"
     ]
    },
    {
     "name": "stderr",
     "output_type": "stream",
     "text": [
      "/home/dp/.local/lib/python3.10/site-packages/sklearn/metrics/_classification.py:1318: UndefinedMetricWarning: Recall and F-score are ill-defined and being set to 0.0 in labels with no true samples. Use `zero_division` parameter to control this behavior.\n",
      "  _warn_prf(average, modifier, msg_start, len(result))\n",
      "/home/dp/.local/lib/python3.10/site-packages/sklearn/metrics/_classification.py:1318: UndefinedMetricWarning: Recall and F-score are ill-defined and being set to 0.0 in labels with no true samples. Use `zero_division` parameter to control this behavior.\n",
      "  _warn_prf(average, modifier, msg_start, len(result))\n",
      "/home/dp/.local/lib/python3.10/site-packages/sklearn/metrics/_classification.py:1318: UndefinedMetricWarning: Recall and F-score are ill-defined and being set to 0.0 in labels with no true samples. Use `zero_division` parameter to control this behavior.\n",
      "  _warn_prf(average, modifier, msg_start, len(result))\n"
     ]
    }
   ],
   "source": [
    "lockdown_scorer_tfid = data_process_svm_model(lockdown_data,counter_t, random_state=15)"
   ]
  },
  {
   "cell_type": "markdown",
   "id": "c14210da",
   "metadata": {},
   "source": [
    "# COVID-19AU data machine learning based setntiment analysis"
   ]
  },
  {
   "cell_type": "code",
   "execution_count": 9,
   "id": "218edd75",
   "metadata": {},
   "outputs": [
    {
     "data": {
      "text/html": [
       "<div>\n",
       "<style scoped>\n",
       "    .dataframe tbody tr th:only-of-type {\n",
       "        vertical-align: middle;\n",
       "    }\n",
       "\n",
       "    .dataframe tbody tr th {\n",
       "        vertical-align: top;\n",
       "    }\n",
       "\n",
       "    .dataframe thead th {\n",
       "        text-align: right;\n",
       "    }\n",
       "</style>\n",
       "<table border=\"1\" class=\"dataframe\">\n",
       "  <thead>\n",
       "    <tr style=\"text-align: right;\">\n",
       "      <th></th>\n",
       "      <th>date</th>\n",
       "      <th>content</th>\n",
       "      <th>POS_tagged</th>\n",
       "      <th>Lemma</th>\n",
       "      <th>Polarity</th>\n",
       "      <th>Sentiment</th>\n",
       "    </tr>\n",
       "  </thead>\n",
       "  <tbody>\n",
       "    <tr>\n",
       "      <th>0</th>\n",
       "      <td>2020-10-30 02:49:20+00:00</td>\n",
       "      <td>talking things queensland borders today’s pres...</td>\n",
       "      <td>[('talking', 'v'), ('things', 'n'), ('queensla...</td>\n",
       "      <td>talkthingqueenslandbordertoday’pressercovid19au</td>\n",
       "      <td>0.0</td>\n",
       "      <td>0</td>\n",
       "    </tr>\n",
       "    <tr>\n",
       "      <th>1</th>\n",
       "      <td>2020-10-29 03:12:56+00:00</td>\n",
       "      <td>hand sanitiser sold australia contain enough a...</td>\n",
       "      <td>[('hand', 'n'), ('sanitiser', 'n'), ('sold', '...</td>\n",
       "      <td>handsanitisersellaustraliacontainenoughalcohol...</td>\n",
       "      <td>0.0</td>\n",
       "      <td>0</td>\n",
       "    </tr>\n",
       "    <tr>\n",
       "      <th>2</th>\n",
       "      <td>2020-10-29 00:47:25+00:00</td>\n",
       "      <td>saturday night blokes night will occur wives g...</td>\n",
       "      <td>[('saturday', 'a'), ('night', 'n'), ('blokes',...</td>\n",
       "      <td>saturdaynightblokenightoccurwifegoannualjauntt...</td>\n",
       "      <td>0.0</td>\n",
       "      <td>0</td>\n",
       "    </tr>\n",
       "    <tr>\n",
       "      <th>3</th>\n",
       "      <td>2020-10-24 23:45:24+00:00</td>\n",
       "      <td>nailed covid19au</td>\n",
       "      <td>[('nailed', 'v'), ('covid19au', 'n')]</td>\n",
       "      <td>nailcovid19au</td>\n",
       "      <td>0.0</td>\n",
       "      <td>0</td>\n",
       "    </tr>\n",
       "    <tr>\n",
       "      <th>4</th>\n",
       "      <td>2020-10-24 09:13:34+00:00</td>\n",
       "      <td>1 week election, pandemic still raging world w...</td>\n",
       "      <td>[('1', None), ('week', 'n'), ('election', 'n')...</td>\n",
       "      <td>1weekelection,pandemicstillragworldwide,lettru...</td>\n",
       "      <td>0.0</td>\n",
       "      <td>0</td>\n",
       "    </tr>\n",
       "  </tbody>\n",
       "</table>\n",
       "</div>"
      ],
      "text/plain": [
       "                        date  \\\n",
       "0  2020-10-30 02:49:20+00:00   \n",
       "1  2020-10-29 03:12:56+00:00   \n",
       "2  2020-10-29 00:47:25+00:00   \n",
       "3  2020-10-24 23:45:24+00:00   \n",
       "4  2020-10-24 09:13:34+00:00   \n",
       "\n",
       "                                             content  \\\n",
       "0  talking things queensland borders today’s pres...   \n",
       "1  hand sanitiser sold australia contain enough a...   \n",
       "2  saturday night blokes night will occur wives g...   \n",
       "3                                   nailed covid19au   \n",
       "4  1 week election, pandemic still raging world w...   \n",
       "\n",
       "                                          POS_tagged  \\\n",
       "0  [('talking', 'v'), ('things', 'n'), ('queensla...   \n",
       "1  [('hand', 'n'), ('sanitiser', 'n'), ('sold', '...   \n",
       "2  [('saturday', 'a'), ('night', 'n'), ('blokes',...   \n",
       "3              [('nailed', 'v'), ('covid19au', 'n')]   \n",
       "4  [('1', None), ('week', 'n'), ('election', 'n')...   \n",
       "\n",
       "                                               Lemma  Polarity  Sentiment  \n",
       "0    talkthingqueenslandbordertoday’pressercovid19au       0.0          0  \n",
       "1  handsanitisersellaustraliacontainenoughalcohol...       0.0          0  \n",
       "2  saturdaynightblokenightoccurwifegoannualjauntt...       0.0          0  \n",
       "3                                      nailcovid19au       0.0          0  \n",
       "4  1weekelection,pandemicstillragworldwide,lettru...       0.0          0  "
      ]
     },
     "execution_count": 9,
     "metadata": {},
     "output_type": "execute_result"
    }
   ],
   "source": [
    "covid_data = pd.read_csv('covid19_sentiment_score.csv')\n",
    "covid_data.head()"
   ]
  },
  {
   "cell_type": "markdown",
   "id": "eafd980a",
   "metadata": {},
   "source": [
    "## COVID-19au data with the counter vectorizer"
   ]
  },
  {
   "cell_type": "code",
   "execution_count": 10,
   "id": "d25e27e7",
   "metadata": {},
   "outputs": [
    {
     "name": "stdout",
     "output_type": "stream",
     "text": [
      "No. of features in each class\n",
      "   0    2206\n",
      " 1      11\n",
      "-1       6\n",
      "Name: Sentiment, dtype: int64\n",
      "No. of features in each class after SMOTE\n",
      "   0    2206\n",
      " 1    2206\n",
      "-1    2206\n",
      "Name: Sentiment, dtype: int64\n",
      "model confusion matrix\n",
      "\n",
      "[[  0   0   0]\n",
      " [477 166  95]\n",
      " [  2   0   1]] \n",
      "\n",
      "model classificaiton report\n",
      "\n",
      "              precision    recall  f1-score   support\n",
      "\n",
      "          -1       0.00      0.00      0.00       479\n",
      "           0       0.22      1.00      0.37       166\n",
      "           1       0.33      0.01      0.02        96\n",
      "\n",
      "    accuracy                           0.23       741\n",
      "   macro avg       0.19      0.34      0.13       741\n",
      "weighted avg       0.09      0.23      0.08       741\n",
      "\n"
     ]
    },
    {
     "name": "stderr",
     "output_type": "stream",
     "text": [
      "/home/dp/.local/lib/python3.10/site-packages/sklearn/metrics/_classification.py:1318: UndefinedMetricWarning: Precision and F-score are ill-defined and being set to 0.0 in labels with no predicted samples. Use `zero_division` parameter to control this behavior.\n",
      "  _warn_prf(average, modifier, msg_start, len(result))\n",
      "/home/dp/.local/lib/python3.10/site-packages/sklearn/metrics/_classification.py:1318: UndefinedMetricWarning: Precision and F-score are ill-defined and being set to 0.0 in labels with no predicted samples. Use `zero_division` parameter to control this behavior.\n",
      "  _warn_prf(average, modifier, msg_start, len(result))\n",
      "/home/dp/.local/lib/python3.10/site-packages/sklearn/metrics/_classification.py:1318: UndefinedMetricWarning: Precision and F-score are ill-defined and being set to 0.0 in labels with no predicted samples. Use `zero_division` parameter to control this behavior.\n",
      "  _warn_prf(average, modifier, msg_start, len(result))\n"
     ]
    }
   ],
   "source": [
    "covid_score_cv = data_process_svm_model(covid_data, counter_v, random_state=38)"
   ]
  },
  {
   "cell_type": "markdown",
   "id": "a0a1788b",
   "metadata": {},
   "source": [
    "## COVID-19au data with the TFID vectorizer"
   ]
  },
  {
   "cell_type": "code",
   "execution_count": 11,
   "id": "e48a42a1",
   "metadata": {},
   "outputs": [
    {
     "name": "stdout",
     "output_type": "stream",
     "text": [
      "No. of features in each class\n",
      "   0    2205\n",
      " 1      12\n",
      "-1       6\n",
      "Name: Sentiment, dtype: int64\n",
      "No. of features in each class after SMOTE\n",
      "   0    2205\n",
      "-1    2205\n",
      " 1    2205\n",
      "Name: Sentiment, dtype: int64\n",
      "model confusion matrix\n",
      "\n",
      "[[738   1]\n",
      " [  2   0]] \n",
      "\n",
      "model classificaiton report\n",
      "\n",
      "              precision    recall  f1-score   support\n",
      "\n",
      "           0       1.00      1.00      1.00       740\n",
      "           1       0.00      0.00      0.00         1\n",
      "\n",
      "    accuracy                           1.00       741\n",
      "   macro avg       0.50      0.50      0.50       741\n",
      "weighted avg       1.00      1.00      1.00       741\n",
      "\n"
     ]
    }
   ],
   "source": [
    "covid_score_tfid = data_process_svm_model(covid_data, counter_t, random_state=899)"
   ]
  },
  {
   "cell_type": "markdown",
   "id": "7ccef200",
   "metadata": {},
   "source": [
    "# Qurantine data sentiment analysis using machine learning model"
   ]
  },
  {
   "cell_type": "code",
   "execution_count": 12,
   "id": "a5bfbfbd",
   "metadata": {},
   "outputs": [
    {
     "data": {
      "text/html": [
       "<div>\n",
       "<style scoped>\n",
       "    .dataframe tbody tr th:only-of-type {\n",
       "        vertical-align: middle;\n",
       "    }\n",
       "\n",
       "    .dataframe tbody tr th {\n",
       "        vertical-align: top;\n",
       "    }\n",
       "\n",
       "    .dataframe thead th {\n",
       "        text-align: right;\n",
       "    }\n",
       "</style>\n",
       "<table border=\"1\" class=\"dataframe\">\n",
       "  <thead>\n",
       "    <tr style=\"text-align: right;\">\n",
       "      <th></th>\n",
       "      <th>date</th>\n",
       "      <th>content</th>\n",
       "      <th>POS_tagged</th>\n",
       "      <th>Lemma</th>\n",
       "      <th>Polarity</th>\n",
       "      <th>Sentiment</th>\n",
       "    </tr>\n",
       "  </thead>\n",
       "  <tbody>\n",
       "    <tr>\n",
       "      <th>0</th>\n",
       "      <td>2020-10-30 21:22:16+00:00</td>\n",
       "      <td>quarantine?</td>\n",
       "      <td>[('quarantine', 'n'), ('?', None)]</td>\n",
       "      <td>quarantine?</td>\n",
       "      <td>0.0</td>\n",
       "      <td>0</td>\n",
       "    </tr>\n",
       "    <tr>\n",
       "      <th>1</th>\n",
       "      <td>2020-10-30 20:10:28+00:00</td>\n",
       "      <td>cristiano ronaldo tested negative covid 19 qua...</td>\n",
       "      <td>[('cristiano', 'n'), ('ronaldo', 'n'), ('teste...</td>\n",
       "      <td>cristianoronaldotestnegativecovid19quarantine....</td>\n",
       "      <td>0.0</td>\n",
       "      <td>0</td>\n",
       "    </tr>\n",
       "    <tr>\n",
       "      <th>2</th>\n",
       "      <td>2020-10-30 19:09:21+00:00</td>\n",
       "      <td>evening cravings 💕 hightea quarantine style co...</td>\n",
       "      <td>[('evening', 'v'), ('cravings', 'n'), ('💕', 'n...</td>\n",
       "      <td>evencraving💕highteaquarantinestylecookyhightea...</td>\n",
       "      <td>0.0</td>\n",
       "      <td>0</td>\n",
       "    </tr>\n",
       "    <tr>\n",
       "      <th>3</th>\n",
       "      <td>2020-10-30 18:55:47+00:00</td>\n",
       "      <td>today supposed d7 quarantine im restarting cou...</td>\n",
       "      <td>[('today', 'n'), ('supposed', 'v'), ('d7', 'a'...</td>\n",
       "      <td>todaysupposed7quarantineimrestartcountdown</td>\n",
       "      <td>0.0</td>\n",
       "      <td>0</td>\n",
       "    </tr>\n",
       "    <tr>\n",
       "      <th>4</th>\n",
       "      <td>2020-10-30 18:18:47+00:00</td>\n",
       "      <td>finally quarantine day 14 😌</td>\n",
       "      <td>[('finally', 'r'), ('quarantine', 'a'), ('day'...</td>\n",
       "      <td>finallyquarantineday14😌</td>\n",
       "      <td>0.0</td>\n",
       "      <td>0</td>\n",
       "    </tr>\n",
       "  </tbody>\n",
       "</table>\n",
       "</div>"
      ],
      "text/plain": [
       "                        date  \\\n",
       "0  2020-10-30 21:22:16+00:00   \n",
       "1  2020-10-30 20:10:28+00:00   \n",
       "2  2020-10-30 19:09:21+00:00   \n",
       "3  2020-10-30 18:55:47+00:00   \n",
       "4  2020-10-30 18:18:47+00:00   \n",
       "\n",
       "                                             content  \\\n",
       "0                                        quarantine?   \n",
       "1  cristiano ronaldo tested negative covid 19 qua...   \n",
       "2  evening cravings 💕 hightea quarantine style co...   \n",
       "3  today supposed d7 quarantine im restarting cou...   \n",
       "4                        finally quarantine day 14 😌   \n",
       "\n",
       "                                          POS_tagged  \\\n",
       "0                 [('quarantine', 'n'), ('?', None)]   \n",
       "1  [('cristiano', 'n'), ('ronaldo', 'n'), ('teste...   \n",
       "2  [('evening', 'v'), ('cravings', 'n'), ('💕', 'n...   \n",
       "3  [('today', 'n'), ('supposed', 'v'), ('d7', 'a'...   \n",
       "4  [('finally', 'r'), ('quarantine', 'a'), ('day'...   \n",
       "\n",
       "                                               Lemma  Polarity  Sentiment  \n",
       "0                                        quarantine?       0.0          0  \n",
       "1  cristianoronaldotestnegativecovid19quarantine....       0.0          0  \n",
       "2  evencraving💕highteaquarantinestylecookyhightea...       0.0          0  \n",
       "3         todaysupposed7quarantineimrestartcountdown       0.0          0  \n",
       "4                            finallyquarantineday14😌       0.0          0  "
      ]
     },
     "execution_count": 12,
     "metadata": {},
     "output_type": "execute_result"
    }
   ],
   "source": [
    "qurantie_data = pd.read_csv('quarantine_sentiment_score.csv')\n",
    "qurantie_data.head()"
   ]
  },
  {
   "cell_type": "markdown",
   "id": "44a755b6",
   "metadata": {},
   "source": [
    "## Qurantien data with the counter vectorizer"
   ]
  },
  {
   "cell_type": "code",
   "execution_count": 13,
   "id": "10de8233",
   "metadata": {},
   "outputs": [
    {
     "name": "stdout",
     "output_type": "stream",
     "text": [
      "No. of features in each class\n",
      "   0    3914\n",
      " 1      36\n",
      "-1      24\n",
      "Name: Sentiment, dtype: int64\n",
      "No. of features in each class after SMOTE\n",
      "   0    3914\n",
      " 1    3914\n",
      "-1    3914\n",
      "Name: Sentiment, dtype: int64\n",
      "model confusion matrix\n",
      "\n",
      "[[  1   0   5]\n",
      " [ 46 270 994]\n",
      " [  2   2   5]] \n",
      "\n",
      "model classificaiton report\n",
      "\n",
      "              precision    recall  f1-score   support\n",
      "\n",
      "          -1       0.17      0.02      0.04        49\n",
      "           0       0.21      0.99      0.34       272\n",
      "           1       0.56      0.00      0.01      1004\n",
      "\n",
      "    accuracy                           0.21      1325\n",
      "   macro avg       0.31      0.34      0.13      1325\n",
      "weighted avg       0.47      0.21      0.08      1325\n",
      "\n"
     ]
    }
   ],
   "source": [
    "qurantie_score_cv = data_process_svm_model(qurantie_data, counter_v, random_state=54)"
   ]
  },
  {
   "cell_type": "markdown",
   "id": "b87639fd",
   "metadata": {},
   "source": [
    "## Qurantien data with the TFID vectorizer"
   ]
  },
  {
   "cell_type": "code",
   "execution_count": 14,
   "id": "5a6f036a",
   "metadata": {},
   "outputs": [
    {
     "name": "stdout",
     "output_type": "stream",
     "text": [
      "No. of features in each class\n",
      "   0    3913\n",
      " 1      36\n",
      "-1      25\n",
      "Name: Sentiment, dtype: int64\n",
      "No. of features in each class after SMOTE\n",
      "   0    3913\n",
      "-1    3913\n",
      " 1    3913\n",
      "Name: Sentiment, dtype: int64\n",
      "model confusion matrix\n",
      "\n",
      "[[   1    4    0]\n",
      " [   0 1311    0]\n",
      " [   0    9    0]] \n",
      "\n",
      "model classificaiton report\n",
      "\n",
      "              precision    recall  f1-score   support\n",
      "\n",
      "          -1       0.20      1.00      0.33         1\n",
      "           0       1.00      0.99      1.00      1324\n",
      "           1       0.00      0.00      0.00         0\n",
      "\n",
      "    accuracy                           0.99      1325\n",
      "   macro avg       0.40      0.66      0.44      1325\n",
      "weighted avg       1.00      0.99      0.99      1325\n",
      "\n"
     ]
    },
    {
     "name": "stderr",
     "output_type": "stream",
     "text": [
      "/home/dp/.local/lib/python3.10/site-packages/sklearn/metrics/_classification.py:1318: UndefinedMetricWarning: Recall and F-score are ill-defined and being set to 0.0 in labels with no true samples. Use `zero_division` parameter to control this behavior.\n",
      "  _warn_prf(average, modifier, msg_start, len(result))\n",
      "/home/dp/.local/lib/python3.10/site-packages/sklearn/metrics/_classification.py:1318: UndefinedMetricWarning: Recall and F-score are ill-defined and being set to 0.0 in labels with no true samples. Use `zero_division` parameter to control this behavior.\n",
      "  _warn_prf(average, modifier, msg_start, len(result))\n",
      "/home/dp/.local/lib/python3.10/site-packages/sklearn/metrics/_classification.py:1318: UndefinedMetricWarning: Recall and F-score are ill-defined and being set to 0.0 in labels with no true samples. Use `zero_division` parameter to control this behavior.\n",
      "  _warn_prf(average, modifier, msg_start, len(result))\n"
     ]
    }
   ],
   "source": [
    "qurantie_score_cv = data_process_svm_model(qurantie_data, counter_t, random_state=49)"
   ]
  },
  {
   "cell_type": "markdown",
   "id": "c58fc389",
   "metadata": {},
   "source": [
    "# Social Distancing sentiment data analysis with the machine learning model"
   ]
  },
  {
   "cell_type": "code",
   "execution_count": 15,
   "id": "9b6797a9",
   "metadata": {},
   "outputs": [
    {
     "data": {
      "text/html": [
       "<div>\n",
       "<style scoped>\n",
       "    .dataframe tbody tr th:only-of-type {\n",
       "        vertical-align: middle;\n",
       "    }\n",
       "\n",
       "    .dataframe tbody tr th {\n",
       "        vertical-align: top;\n",
       "    }\n",
       "\n",
       "    .dataframe thead th {\n",
       "        text-align: right;\n",
       "    }\n",
       "</style>\n",
       "<table border=\"1\" class=\"dataframe\">\n",
       "  <thead>\n",
       "    <tr style=\"text-align: right;\">\n",
       "      <th></th>\n",
       "      <th>date</th>\n",
       "      <th>content</th>\n",
       "      <th>POS_tagged</th>\n",
       "      <th>Lemma</th>\n",
       "      <th>Polarity</th>\n",
       "      <th>Sentiment</th>\n",
       "    </tr>\n",
       "  </thead>\n",
       "  <tbody>\n",
       "    <tr>\n",
       "      <th>0</th>\n",
       "      <td>2020-10-30 22:06:12+00:00</td>\n",
       "      <td>social distancing w/</td>\n",
       "      <td>[('social', 'a'), ('distancing', 'n'), ('w/', ...</td>\n",
       "      <td>socialdistancingw/</td>\n",
       "      <td>0.0</td>\n",
       "      <td>0</td>\n",
       "    </tr>\n",
       "    <tr>\n",
       "      <th>1</th>\n",
       "      <td>2020-10-30 21:09:12+00:00</td>\n",
       "      <td>really impressed _nz strongly recommending mas...</td>\n",
       "      <td>[('really', 'r'), ('impressed', 'a'), ('_nz', ...</td>\n",
       "      <td>reallyimpressed_nzstronglyrecommendmaskremindp...</td>\n",
       "      <td>0.0</td>\n",
       "      <td>0</td>\n",
       "    </tr>\n",
       "    <tr>\n",
       "      <th>2</th>\n",
       "      <td>2020-10-30 19:36:57+00:00</td>\n",
       "      <td>great work australia weve mildest flu season e...</td>\n",
       "      <td>[('great', 'a'), ('work', 'n'), ('australia', ...</td>\n",
       "      <td>greatworkaustraliawevemildfluseasonever.highra...</td>\n",
       "      <td>0.0</td>\n",
       "      <td>0</td>\n",
       "    </tr>\n",
       "    <tr>\n",
       "      <th>3</th>\n",
       "      <td>2020-10-30 11:51:33+00:00</td>\n",
       "      <td>population especially urban metropolis, people...</td>\n",
       "      <td>[('population', 'n'), ('especially', 'r'), ('u...</td>\n",
       "      <td>populationespeciallyurbanmetropolis,peoplepers...</td>\n",
       "      <td>0.0</td>\n",
       "      <td>0</td>\n",
       "    </tr>\n",
       "    <tr>\n",
       "      <th>4</th>\n",
       "      <td>2020-10-30 11:04:50+00:00</td>\n",
       "      <td>tapi ada sedikit kelakar social distancing nnt...</td>\n",
       "      <td>[('tapi', 'n'), ('ada', 'v'), ('sedikit', 'a')...</td>\n",
       "      <td>tapiadasedikitkelakarsocialdistancennti🤣🤣🤣tpmn...</td>\n",
       "      <td>0.0</td>\n",
       "      <td>0</td>\n",
       "    </tr>\n",
       "  </tbody>\n",
       "</table>\n",
       "</div>"
      ],
      "text/plain": [
       "                        date  \\\n",
       "0  2020-10-30 22:06:12+00:00   \n",
       "1  2020-10-30 21:09:12+00:00   \n",
       "2  2020-10-30 19:36:57+00:00   \n",
       "3  2020-10-30 11:51:33+00:00   \n",
       "4  2020-10-30 11:04:50+00:00   \n",
       "\n",
       "                                             content  \\\n",
       "0                               social distancing w/   \n",
       "1  really impressed _nz strongly recommending mas...   \n",
       "2  great work australia weve mildest flu season e...   \n",
       "3  population especially urban metropolis, people...   \n",
       "4  tapi ada sedikit kelakar social distancing nnt...   \n",
       "\n",
       "                                          POS_tagged  \\\n",
       "0  [('social', 'a'), ('distancing', 'n'), ('w/', ...   \n",
       "1  [('really', 'r'), ('impressed', 'a'), ('_nz', ...   \n",
       "2  [('great', 'a'), ('work', 'n'), ('australia', ...   \n",
       "3  [('population', 'n'), ('especially', 'r'), ('u...   \n",
       "4  [('tapi', 'n'), ('ada', 'v'), ('sedikit', 'a')...   \n",
       "\n",
       "                                               Lemma  Polarity  Sentiment  \n",
       "0                                 socialdistancingw/       0.0          0  \n",
       "1  reallyimpressed_nzstronglyrecommendmaskremindp...       0.0          0  \n",
       "2  greatworkaustraliawevemildfluseasonever.highra...       0.0          0  \n",
       "3  populationespeciallyurbanmetropolis,peoplepers...       0.0          0  \n",
       "4  tapiadasedikitkelakarsocialdistancennti🤣🤣🤣tpmn...       0.0          0  "
      ]
     },
     "execution_count": 15,
     "metadata": {},
     "output_type": "execute_result"
    }
   ],
   "source": [
    "soc_data = pd.read_csv('soc_distance_sentiment_score.csv')\n",
    "soc_data.head()"
   ]
  },
  {
   "cell_type": "markdown",
   "id": "e1f63f36",
   "metadata": {},
   "source": [
    "## SOC data with the counter vectorizer"
   ]
  },
  {
   "cell_type": "code",
   "execution_count": 16,
   "id": "17f94c30",
   "metadata": {},
   "outputs": [
    {
     "name": "stdout",
     "output_type": "stream",
     "text": [
      "No. of features in each class\n",
      "   0    5001\n",
      " 1      51\n",
      "-1      33\n",
      "Name: Sentiment, dtype: int64\n",
      "No. of features in each class after SMOTE\n",
      "   0    5001\n",
      "-1    5001\n",
      " 1    5001\n",
      "Name: Sentiment, dtype: int64\n",
      "model confusion matrix\n",
      "\n",
      "[[   1    1    2]\n",
      " [  28  462 1185]\n",
      " [   0    2   14]] \n",
      "\n",
      "model classificaiton report\n",
      "\n",
      "              precision    recall  f1-score   support\n",
      "\n",
      "          -1       0.25      0.03      0.06        29\n",
      "           0       0.28      0.99      0.43       465\n",
      "           1       0.88      0.01      0.02      1201\n",
      "\n",
      "    accuracy                           0.28      1695\n",
      "   macro avg       0.47      0.35      0.17      1695\n",
      "weighted avg       0.70      0.28      0.14      1695\n",
      "\n"
     ]
    }
   ],
   "source": [
    "soc_score = data_process_svm_model(soc_data, counter_v, random_state=54)"
   ]
  },
  {
   "cell_type": "markdown",
   "id": "4fb40363",
   "metadata": {},
   "source": [
    "## SOC data with the tfid vectorizer"
   ]
  },
  {
   "cell_type": "code",
   "execution_count": 17,
   "id": "05dde48a",
   "metadata": {},
   "outputs": [
    {
     "name": "stdout",
     "output_type": "stream",
     "text": [
      "No. of features in each class\n",
      "   0    5001\n",
      " 1      51\n",
      "-1      33\n",
      "Name: Sentiment, dtype: int64\n",
      "No. of features in each class after SMOTE\n",
      "   0    5001\n",
      "-1    5001\n",
      " 1    5001\n",
      "Name: Sentiment, dtype: int64\n",
      "model confusion matrix\n",
      "\n",
      "[[   1    1    2]\n",
      " [  28  462 1185]\n",
      " [   0    2   14]] \n",
      "\n",
      "model classificaiton report\n",
      "\n",
      "              precision    recall  f1-score   support\n",
      "\n",
      "          -1       0.25      0.03      0.06        29\n",
      "           0       0.28      0.99      0.43       465\n",
      "           1       0.88      0.01      0.02      1201\n",
      "\n",
      "    accuracy                           0.28      1695\n",
      "   macro avg       0.47      0.35      0.17      1695\n",
      "weighted avg       0.70      0.28      0.14      1695\n",
      "\n"
     ]
    }
   ],
   "source": [
    "soc_score = data_process_svm_model(soc_data, counter_v, random_state=54)"
   ]
  },
  {
   "cell_type": "markdown",
   "id": "de7e3c5a",
   "metadata": {},
   "source": [
    "# Vaccine data sentiment analysis using machine learning model"
   ]
  },
  {
   "cell_type": "code",
   "execution_count": 18,
   "id": "8e7f990b",
   "metadata": {},
   "outputs": [
    {
     "data": {
      "text/html": [
       "<div>\n",
       "<style scoped>\n",
       "    .dataframe tbody tr th:only-of-type {\n",
       "        vertical-align: middle;\n",
       "    }\n",
       "\n",
       "    .dataframe tbody tr th {\n",
       "        vertical-align: top;\n",
       "    }\n",
       "\n",
       "    .dataframe thead th {\n",
       "        text-align: right;\n",
       "    }\n",
       "</style>\n",
       "<table border=\"1\" class=\"dataframe\">\n",
       "  <thead>\n",
       "    <tr style=\"text-align: right;\">\n",
       "      <th></th>\n",
       "      <th>date</th>\n",
       "      <th>content</th>\n",
       "      <th>POS_tagged</th>\n",
       "      <th>Lemma</th>\n",
       "      <th>Polarity</th>\n",
       "      <th>Sentiment</th>\n",
       "    </tr>\n",
       "  </thead>\n",
       "  <tbody>\n",
       "    <tr>\n",
       "      <th>0</th>\n",
       "      <td>2020-10-30 21:43:08+00:00</td>\n",
       "      <td>_fletcher hope ➕decent president ➕vaccine ✅</td>\n",
       "      <td>[('_fletcher', None), ('hope', 'n'), ('➕decent...</td>\n",
       "      <td>_fletcherhope➕decentpresident➕vaccine✅</td>\n",
       "      <td>0.0</td>\n",
       "      <td>0</td>\n",
       "    </tr>\n",
       "    <tr>\n",
       "      <th>1</th>\n",
       "      <td>2020-10-30 15:43:24+00:00</td>\n",
       "      <td>date someone who..? 1 - done 2 - lyfe 3 - dont...</td>\n",
       "      <td>[('date', 'n'), ('someone', 'n'), ('..', 'v'),...</td>\n",
       "      <td>datesomeone..?1-do2-lyfe3-dontthink?4-nahh..5-...</td>\n",
       "      <td>0.0</td>\n",
       "      <td>0</td>\n",
       "    </tr>\n",
       "    <tr>\n",
       "      <th>2</th>\n",
       "      <td>2020-10-30 14:00:59+00:00</td>\n",
       "      <td>offer free covid vaccines apple fanboys 😉😉</td>\n",
       "      <td>[('offer', 'n'), ('free', 'a'), ('covid', 'n')...</td>\n",
       "      <td>offerfreecovidvaccineapplefanboys😉😉</td>\n",
       "      <td>0.0</td>\n",
       "      <td>0</td>\n",
       "    </tr>\n",
       "    <tr>\n",
       "      <th>3</th>\n",
       "      <td>2020-10-30 09:37:53+00:00</td>\n",
       "      <td>shaa allah ate. vaccine nalang kulang</td>\n",
       "      <td>[('shaa', 'n'), ('allah', 'n'), ('ate', 'n'), ...</td>\n",
       "      <td>shaaallahate.vaccinenalangkulang</td>\n",
       "      <td>0.0</td>\n",
       "      <td>0</td>\n",
       "    </tr>\n",
       "    <tr>\n",
       "      <th>4</th>\n",
       "      <td>2020-10-30 06:36:20+00:00</td>\n",
       "      <td>great modig pm modi says indians will coronavi...</td>\n",
       "      <td>[('great', 'a'), ('modig', 'n'), ('pm', 'n'), ...</td>\n",
       "      <td>greatmodigpmmodisayindiancoronavirusvaccine,ex...</td>\n",
       "      <td>0.0</td>\n",
       "      <td>0</td>\n",
       "    </tr>\n",
       "  </tbody>\n",
       "</table>\n",
       "</div>"
      ],
      "text/plain": [
       "                        date  \\\n",
       "0  2020-10-30 21:43:08+00:00   \n",
       "1  2020-10-30 15:43:24+00:00   \n",
       "2  2020-10-30 14:00:59+00:00   \n",
       "3  2020-10-30 09:37:53+00:00   \n",
       "4  2020-10-30 06:36:20+00:00   \n",
       "\n",
       "                                             content  \\\n",
       "0        _fletcher hope ➕decent president ➕vaccine ✅   \n",
       "1  date someone who..? 1 - done 2 - lyfe 3 - dont...   \n",
       "2         offer free covid vaccines apple fanboys 😉😉   \n",
       "3              shaa allah ate. vaccine nalang kulang   \n",
       "4  great modig pm modi says indians will coronavi...   \n",
       "\n",
       "                                          POS_tagged  \\\n",
       "0  [('_fletcher', None), ('hope', 'n'), ('➕decent...   \n",
       "1  [('date', 'n'), ('someone', 'n'), ('..', 'v'),...   \n",
       "2  [('offer', 'n'), ('free', 'a'), ('covid', 'n')...   \n",
       "3  [('shaa', 'n'), ('allah', 'n'), ('ate', 'n'), ...   \n",
       "4  [('great', 'a'), ('modig', 'n'), ('pm', 'n'), ...   \n",
       "\n",
       "                                               Lemma  Polarity  Sentiment  \n",
       "0             _fletcherhope➕decentpresident➕vaccine✅       0.0          0  \n",
       "1  datesomeone..?1-do2-lyfe3-dontthink?4-nahh..5-...       0.0          0  \n",
       "2                offerfreecovidvaccineapplefanboys😉😉       0.0          0  \n",
       "3                   shaaallahate.vaccinenalangkulang       0.0          0  \n",
       "4  greatmodigpmmodisayindiancoronavirusvaccine,ex...       0.0          0  "
      ]
     },
     "execution_count": 18,
     "metadata": {},
     "output_type": "execute_result"
    }
   ],
   "source": [
    "vacc_data = pd.read_csv('vaccine_sentiment_score.csv')\n",
    "vacc_data.head()"
   ]
  },
  {
   "cell_type": "markdown",
   "id": "f65b2f3c",
   "metadata": {},
   "source": [
    "## Vaccine dataset analysis with the counter vectorizer"
   ]
  },
  {
   "cell_type": "code",
   "execution_count": 19,
   "id": "66db36e9",
   "metadata": {},
   "outputs": [
    {
     "name": "stdout",
     "output_type": "stream",
     "text": [
      "No. of features in each class\n",
      "   0    1505\n",
      " 1      11\n",
      "-1       6\n",
      "Name: Sentiment, dtype: int64\n",
      "No. of features in each class after SMOTE\n",
      "   0    1505\n",
      " 1    1505\n",
      "-1    1505\n",
      "Name: Sentiment, dtype: int64\n",
      "model confusion matrix\n",
      "\n",
      "[[  1   0   0]\n",
      " [337 136  28]\n",
      " [  5   1   0]] \n",
      "\n",
      "model classificaiton report\n",
      "\n",
      "              precision    recall  f1-score   support\n",
      "\n",
      "          -1       1.00      0.00      0.01       343\n",
      "           0       0.27      0.99      0.43       137\n",
      "           1       0.00      0.00      0.00        28\n",
      "\n",
      "    accuracy                           0.27       508\n",
      "   macro avg       0.42      0.33      0.14       508\n",
      "weighted avg       0.75      0.27      0.12       508\n",
      "\n"
     ]
    }
   ],
   "source": [
    "vacc_score = data_process_svm_model(vacc_data, counter_v, random_state=1)"
   ]
  },
  {
   "cell_type": "markdown",
   "id": "fe252441",
   "metadata": {},
   "source": [
    "## Vaccine dataset analysis with the tfid vectorizer"
   ]
  },
  {
   "cell_type": "code",
   "execution_count": 20,
   "id": "f39fbdff",
   "metadata": {},
   "outputs": [
    {
     "name": "stdout",
     "output_type": "stream",
     "text": [
      "No. of features in each class\n",
      "   0    1505\n",
      " 1      11\n",
      "-1       6\n",
      "Name: Sentiment, dtype: int64\n",
      "No. of features in each class after SMOTE\n",
      "   0    1505\n",
      " 1    1505\n",
      "-1    1505\n",
      "Name: Sentiment, dtype: int64\n",
      "model confusion matrix\n",
      "\n",
      "[[  0   1   0]\n",
      " [  0 501   0]\n",
      " [  0   6   0]] \n",
      "\n",
      "model classificaiton report\n",
      "\n",
      "              precision    recall  f1-score   support\n",
      "\n",
      "          -1       0.00      0.00      0.00         0\n",
      "           0       1.00      0.99      0.99       508\n",
      "           1       0.00      0.00      0.00         0\n",
      "\n",
      "    accuracy                           0.99       508\n",
      "   macro avg       0.33      0.33      0.33       508\n",
      "weighted avg       1.00      0.99      0.99       508\n",
      "\n"
     ]
    },
    {
     "name": "stderr",
     "output_type": "stream",
     "text": [
      "/home/dp/.local/lib/python3.10/site-packages/sklearn/metrics/_classification.py:1318: UndefinedMetricWarning: Recall and F-score are ill-defined and being set to 0.0 in labels with no true samples. Use `zero_division` parameter to control this behavior.\n",
      "  _warn_prf(average, modifier, msg_start, len(result))\n",
      "/home/dp/.local/lib/python3.10/site-packages/sklearn/metrics/_classification.py:1318: UndefinedMetricWarning: Recall and F-score are ill-defined and being set to 0.0 in labels with no true samples. Use `zero_division` parameter to control this behavior.\n",
      "  _warn_prf(average, modifier, msg_start, len(result))\n",
      "/home/dp/.local/lib/python3.10/site-packages/sklearn/metrics/_classification.py:1318: UndefinedMetricWarning: Recall and F-score are ill-defined and being set to 0.0 in labels with no true samples. Use `zero_division` parameter to control this behavior.\n",
      "  _warn_prf(average, modifier, msg_start, len(result))\n"
     ]
    }
   ],
   "source": [
    "vacc_score_tfid = data_process_svm_model(vacc_data, counter_t, random_state=1)"
   ]
  }
 ],
 "metadata": {
  "kernelspec": {
   "display_name": "Python 3 (ipykernel)",
   "language": "python",
   "name": "python3"
  },
  "language_info": {
   "codemirror_mode": {
    "name": "ipython",
    "version": 3
   },
   "file_extension": ".py",
   "mimetype": "text/x-python",
   "name": "python",
   "nbconvert_exporter": "python",
   "pygments_lexer": "ipython3",
   "version": "3.10.4"
  }
 },
 "nbformat": 4,
 "nbformat_minor": 5
}
