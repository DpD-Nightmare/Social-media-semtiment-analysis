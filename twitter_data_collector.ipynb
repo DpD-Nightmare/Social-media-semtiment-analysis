{
 "cells": [
  {
   "cell_type": "markdown",
   "id": "d5249651",
   "metadata": {},
   "source": [
    "# The tweet data set collection code  for collecting the Australian  peoples sentiments on the goverment mandets"
   ]
  },
  {
   "cell_type": "code",
   "execution_count": 1,
   "id": "4da9850f",
   "metadata": {},
   "outputs": [],
   "source": [
    "# load the social media data scrapping tool\n",
    "import snscrape.modules.twitter as sntwitter\n",
    "import pandas as pd#for converting the dataset into dataframe\n",
    "import itertools#Basic itrative tools\n",
    "\n",
    "#Load the sentiment analysis tool with the model loading\n",
    "from datetime import datetime\n",
    "from transformers import pipeline"
   ]
  },
  {
   "cell_type": "code",
   "execution_count": 29,
   "id": "101c641d",
   "metadata": {},
   "outputs": [],
   "source": [
    "#Collect the face mask mandate sentiemnt dataset from the the twitter based on the location of western australia\n",
    "df_faceM = pd.DataFrame(itertools.islice(sntwitter.TwitterSearchScraper(\n",
    "    'Face Mask near:\"Perth\" within:5000km since:2020-03-01 until:2020-10-31').get_items(), 5000))[['date', 'content']]"
   ]
  },
  {
   "cell_type": "code",
   "execution_count": 30,
   "id": "a1e3567e",
   "metadata": {},
   "outputs": [
    {
     "data": {
      "text/html": [
       "<div>\n",
       "<style scoped>\n",
       "    .dataframe tbody tr th:only-of-type {\n",
       "        vertical-align: middle;\n",
       "    }\n",
       "\n",
       "    .dataframe tbody tr th {\n",
       "        vertical-align: top;\n",
       "    }\n",
       "\n",
       "    .dataframe thead th {\n",
       "        text-align: right;\n",
       "    }\n",
       "</style>\n",
       "<table border=\"1\" class=\"dataframe\">\n",
       "  <thead>\n",
       "    <tr style=\"text-align: right;\">\n",
       "      <th></th>\n",
       "      <th>date</th>\n",
       "      <th>content</th>\n",
       "    </tr>\n",
       "  </thead>\n",
       "  <tbody>\n",
       "    <tr>\n",
       "      <th>0</th>\n",
       "      <td>2020-10-30 03:11:51+00:00</td>\n",
       "      <td>This weeks star is the \\nMedical Surgical Mask...</td>\n",
       "    </tr>\n",
       "    <tr>\n",
       "      <th>1</th>\n",
       "      <td>2020-10-29 07:31:12+00:00</td>\n",
       "      <td>Face mask ✔️\\nHand sanitiser ✔️\\nSafe distance...</td>\n",
       "    </tr>\n",
       "    <tr>\n",
       "      <th>2</th>\n",
       "      <td>2020-10-29 03:20:24+00:00</td>\n",
       "      <td>Dr Fauci praises Australia’s coronavirus respo...</td>\n",
       "    </tr>\n",
       "    <tr>\n",
       "      <th>3</th>\n",
       "      <td>2020-10-29 03:20:16+00:00</td>\n",
       "      <td>Dr Fauci praises Australia’s coronavirus respo...</td>\n",
       "    </tr>\n",
       "    <tr>\n",
       "      <th>4</th>\n",
       "      <td>2020-10-28 09:12:59+00:00</td>\n",
       "      <td>Face mask 😷while working out at the gym doesn’...</td>\n",
       "    </tr>\n",
       "    <tr>\n",
       "      <th>...</th>\n",
       "      <td>...</td>\n",
       "      <td>...</td>\n",
       "    </tr>\n",
       "    <tr>\n",
       "      <th>410</th>\n",
       "      <td>2020-03-08 21:50:21+00:00</td>\n",
       "      <td>@RitaPanahi @SydneyLWatson Wasn't the surgical...</td>\n",
       "    </tr>\n",
       "    <tr>\n",
       "      <th>411</th>\n",
       "      <td>2020-03-04 04:51:19+00:00</td>\n",
       "      <td>Don't panic, the authorities said. Don't do an...</td>\n",
       "    </tr>\n",
       "    <tr>\n",
       "      <th>412</th>\n",
       "      <td>2020-03-02 08:23:18+00:00</td>\n",
       "      <td>I get prizes at work but i already have too mu...</td>\n",
       "    </tr>\n",
       "    <tr>\n",
       "      <th>413</th>\n",
       "      <td>2020-03-02 07:34:14+00:00</td>\n",
       "      <td>@BlessRNG The face mask is a nice touch</td>\n",
       "    </tr>\n",
       "    <tr>\n",
       "      <th>414</th>\n",
       "      <td>2020-03-02 07:21:10+00:00</td>\n",
       "      <td>(Don’t take this seriously) \\nWatch half the p...</td>\n",
       "    </tr>\n",
       "  </tbody>\n",
       "</table>\n",
       "<p>415 rows × 2 columns</p>\n",
       "</div>"
      ],
      "text/plain": [
       "                         date  \\\n",
       "0   2020-10-30 03:11:51+00:00   \n",
       "1   2020-10-29 07:31:12+00:00   \n",
       "2   2020-10-29 03:20:24+00:00   \n",
       "3   2020-10-29 03:20:16+00:00   \n",
       "4   2020-10-28 09:12:59+00:00   \n",
       "..                        ...   \n",
       "410 2020-03-08 21:50:21+00:00   \n",
       "411 2020-03-04 04:51:19+00:00   \n",
       "412 2020-03-02 08:23:18+00:00   \n",
       "413 2020-03-02 07:34:14+00:00   \n",
       "414 2020-03-02 07:21:10+00:00   \n",
       "\n",
       "                                               content  \n",
       "0    This weeks star is the \\nMedical Surgical Mask...  \n",
       "1    Face mask ✔️\\nHand sanitiser ✔️\\nSafe distance...  \n",
       "2    Dr Fauci praises Australia’s coronavirus respo...  \n",
       "3    Dr Fauci praises Australia’s coronavirus respo...  \n",
       "4    Face mask 😷while working out at the gym doesn’...  \n",
       "..                                                 ...  \n",
       "410  @RitaPanahi @SydneyLWatson Wasn't the surgical...  \n",
       "411  Don't panic, the authorities said. Don't do an...  \n",
       "412  I get prizes at work but i already have too mu...  \n",
       "413            @BlessRNG The face mask is a nice touch  \n",
       "414  (Don’t take this seriously) \\nWatch half the p...  \n",
       "\n",
       "[415 rows x 2 columns]"
      ]
     },
     "execution_count": 30,
     "metadata": {},
     "output_type": "execute_result"
    }
   ],
   "source": [
    "df_faceM"
   ]
  },
  {
   "cell_type": "code",
   "execution_count": 23,
   "id": "51e24ef0",
   "metadata": {},
   "outputs": [],
   "source": [
    "#Collect the vaccine mandate sentiment dataset from the the twitter based on the location of western australia\n",
    "df_vacinne = pd.DataFrame(itertools.islice(sntwitter.TwitterSearchScraper(\n",
    "    'Vaccine near:\"Perth\" within:5000km since:2020-03-01 until:2020-10-31').get_items(), 5000))[['date', 'content']]"
   ]
  },
  {
   "cell_type": "code",
   "execution_count": 24,
   "id": "b538ddb1",
   "metadata": {},
   "outputs": [
    {
     "data": {
      "text/html": [
       "<div>\n",
       "<style scoped>\n",
       "    .dataframe tbody tr th:only-of-type {\n",
       "        vertical-align: middle;\n",
       "    }\n",
       "\n",
       "    .dataframe tbody tr th {\n",
       "        vertical-align: top;\n",
       "    }\n",
       "\n",
       "    .dataframe thead th {\n",
       "        text-align: right;\n",
       "    }\n",
       "</style>\n",
       "<table border=\"1\" class=\"dataframe\">\n",
       "  <thead>\n",
       "    <tr style=\"text-align: right;\">\n",
       "      <th></th>\n",
       "      <th>date</th>\n",
       "      <th>content</th>\n",
       "    </tr>\n",
       "  </thead>\n",
       "  <tbody>\n",
       "    <tr>\n",
       "      <th>0</th>\n",
       "      <td>2020-10-30 23:28:56+00:00</td>\n",
       "      <td>@Huw_Merlin &amp;amp; many people don’t have ANY @...</td>\n",
       "    </tr>\n",
       "    <tr>\n",
       "      <th>1</th>\n",
       "      <td>2020-10-30 23:13:02+00:00</td>\n",
       "      <td>@joshgnosis Rinse and repeat until vaccine.</td>\n",
       "    </tr>\n",
       "    <tr>\n",
       "      <th>2</th>\n",
       "      <td>2020-10-30 22:39:22+00:00</td>\n",
       "      <td>@realDonaldTrump A safe vaccine ... that does ...</td>\n",
       "    </tr>\n",
       "    <tr>\n",
       "      <th>3</th>\n",
       "      <td>2020-10-30 21:09:36+00:00</td>\n",
       "      <td>@julestw9 I'm not convinced it won't be foreve...</td>\n",
       "    </tr>\n",
       "    <tr>\n",
       "      <th>4</th>\n",
       "      <td>2020-10-30 21:08:55+00:00</td>\n",
       "      <td>@lienomail @RichardBurgon What can they do? La...</td>\n",
       "    </tr>\n",
       "    <tr>\n",
       "      <th>...</th>\n",
       "      <td>...</td>\n",
       "      <td>...</td>\n",
       "    </tr>\n",
       "    <tr>\n",
       "      <th>1843</th>\n",
       "      <td>2020-03-02 02:35:19+00:00</td>\n",
       "      <td>No vaccine?! No Problem! https://t.co/pJG2EGrIua</td>\n",
       "    </tr>\n",
       "    <tr>\n",
       "      <th>1844</th>\n",
       "      <td>2020-03-01 19:57:38+00:00</td>\n",
       "      <td>@bylenasun @ScottGottliebMD @JoelAchenbach Wel...</td>\n",
       "    </tr>\n",
       "    <tr>\n",
       "      <th>1845</th>\n",
       "      <td>2020-03-01 03:00:58+00:00</td>\n",
       "      <td>Anti-vaxxers 'terrified' of a mandatory corona...</td>\n",
       "    </tr>\n",
       "    <tr>\n",
       "      <th>1846</th>\n",
       "      <td>2020-03-01 00:31:33+00:00</td>\n",
       "      <td>Although public health officials rarely admit ...</td>\n",
       "    </tr>\n",
       "    <tr>\n",
       "      <th>1847</th>\n",
       "      <td>2020-03-01 00:00:55+00:00</td>\n",
       "      <td>I bet Anti Vaxxers are gonna be the first to l...</td>\n",
       "    </tr>\n",
       "  </tbody>\n",
       "</table>\n",
       "<p>1848 rows × 2 columns</p>\n",
       "</div>"
      ],
      "text/plain": [
       "                          date  \\\n",
       "0    2020-10-30 23:28:56+00:00   \n",
       "1    2020-10-30 23:13:02+00:00   \n",
       "2    2020-10-30 22:39:22+00:00   \n",
       "3    2020-10-30 21:09:36+00:00   \n",
       "4    2020-10-30 21:08:55+00:00   \n",
       "...                        ...   \n",
       "1843 2020-03-02 02:35:19+00:00   \n",
       "1844 2020-03-01 19:57:38+00:00   \n",
       "1845 2020-03-01 03:00:58+00:00   \n",
       "1846 2020-03-01 00:31:33+00:00   \n",
       "1847 2020-03-01 00:00:55+00:00   \n",
       "\n",
       "                                                content  \n",
       "0     @Huw_Merlin &amp; many people don’t have ANY @...  \n",
       "1           @joshgnosis Rinse and repeat until vaccine.  \n",
       "2     @realDonaldTrump A safe vaccine ... that does ...  \n",
       "3     @julestw9 I'm not convinced it won't be foreve...  \n",
       "4     @lienomail @RichardBurgon What can they do? La...  \n",
       "...                                                 ...  \n",
       "1843   No vaccine?! No Problem! https://t.co/pJG2EGrIua  \n",
       "1844  @bylenasun @ScottGottliebMD @JoelAchenbach Wel...  \n",
       "1845  Anti-vaxxers 'terrified' of a mandatory corona...  \n",
       "1846  Although public health officials rarely admit ...  \n",
       "1847  I bet Anti Vaxxers are gonna be the first to l...  \n",
       "\n",
       "[1848 rows x 2 columns]"
      ]
     },
     "execution_count": 24,
     "metadata": {},
     "output_type": "execute_result"
    }
   ],
   "source": [
    "df_vacinne"
   ]
  },
  {
   "cell_type": "code",
   "execution_count": 27,
   "id": "520614a1",
   "metadata": {},
   "outputs": [],
   "source": [
    "#Collect the social distancing mandate sentiment dataset from the the twitter based on the location of western australia\n",
    "df_soc = pd.DataFrame(itertools.islice(sntwitter.TwitterSearchScraper(\n",
    "    'Social Distance near:\"Perth\" within:5000km since:2020-03-01 until:2020-10-31').get_items(), 5000))[['date', 'content']]"
   ]
  },
  {
   "cell_type": "code",
   "execution_count": 28,
   "id": "64263ee6",
   "metadata": {},
   "outputs": [
    {
     "data": {
      "text/html": [
       "<div>\n",
       "<style scoped>\n",
       "    .dataframe tbody tr th:only-of-type {\n",
       "        vertical-align: middle;\n",
       "    }\n",
       "\n",
       "    .dataframe tbody tr th {\n",
       "        vertical-align: top;\n",
       "    }\n",
       "\n",
       "    .dataframe thead th {\n",
       "        text-align: right;\n",
       "    }\n",
       "</style>\n",
       "<table border=\"1\" class=\"dataframe\">\n",
       "  <thead>\n",
       "    <tr style=\"text-align: right;\">\n",
       "      <th></th>\n",
       "      <th>date</th>\n",
       "      <th>content</th>\n",
       "    </tr>\n",
       "  </thead>\n",
       "  <tbody>\n",
       "    <tr>\n",
       "      <th>0</th>\n",
       "      <td>2020-10-30 21:33:34+00:00</td>\n",
       "      <td>@VicGovDHHS That’s the number we all want to k...</td>\n",
       "    </tr>\n",
       "    <tr>\n",
       "      <th>1</th>\n",
       "      <td>2020-10-30 16:37:19+00:00</td>\n",
       "      <td>It’s time folks. Time for change. Time for Ame...</td>\n",
       "    </tr>\n",
       "    <tr>\n",
       "      <th>2</th>\n",
       "      <td>2020-10-30 03:12:15+00:00</td>\n",
       "      <td>@bukhariawesome escort 3-4 orang no social dis...</td>\n",
       "    </tr>\n",
       "    <tr>\n",
       "      <th>3</th>\n",
       "      <td>2020-10-29 17:53:37+00:00</td>\n",
       "      <td>You may not recognise what this is. This is ‘l...</td>\n",
       "    </tr>\n",
       "    <tr>\n",
       "      <th>4</th>\n",
       "      <td>2020-10-29 16:01:06+00:00</td>\n",
       "      <td>Incidence of @Covid_19 positive cases in Chenn...</td>\n",
       "    </tr>\n",
       "    <tr>\n",
       "      <th>...</th>\n",
       "      <td>...</td>\n",
       "      <td>...</td>\n",
       "    </tr>\n",
       "    <tr>\n",
       "      <th>417</th>\n",
       "      <td>2020-03-13 05:13:40+00:00</td>\n",
       "      <td>@CameronAtfield Shouldn’t be too hard to socia...</td>\n",
       "    </tr>\n",
       "    <tr>\n",
       "      <th>418</th>\n",
       "      <td>2020-03-13 04:10:53+00:00</td>\n",
       "      <td>waiting for far right conservative pundits to ...</td>\n",
       "    </tr>\n",
       "    <tr>\n",
       "      <th>419</th>\n",
       "      <td>2020-03-12 03:09:29+00:00</td>\n",
       "      <td>@DeadlineDavis I’m interested to see what happ...</td>\n",
       "    </tr>\n",
       "    <tr>\n",
       "      <th>420</th>\n",
       "      <td>2020-03-11 11:56:49+00:00</td>\n",
       "      <td>@DrMartinJN That'll work, as long as the bisho...</td>\n",
       "    </tr>\n",
       "    <tr>\n",
       "      <th>421</th>\n",
       "      <td>2020-03-11 02:47:16+00:00</td>\n",
       "      <td>We need to wash hands, social distance... spre...</td>\n",
       "    </tr>\n",
       "  </tbody>\n",
       "</table>\n",
       "<p>422 rows × 2 columns</p>\n",
       "</div>"
      ],
      "text/plain": [
       "                         date  \\\n",
       "0   2020-10-30 21:33:34+00:00   \n",
       "1   2020-10-30 16:37:19+00:00   \n",
       "2   2020-10-30 03:12:15+00:00   \n",
       "3   2020-10-29 17:53:37+00:00   \n",
       "4   2020-10-29 16:01:06+00:00   \n",
       "..                        ...   \n",
       "417 2020-03-13 05:13:40+00:00   \n",
       "418 2020-03-13 04:10:53+00:00   \n",
       "419 2020-03-12 03:09:29+00:00   \n",
       "420 2020-03-11 11:56:49+00:00   \n",
       "421 2020-03-11 02:47:16+00:00   \n",
       "\n",
       "                                               content  \n",
       "0    @VicGovDHHS That’s the number we all want to k...  \n",
       "1    It’s time folks. Time for change. Time for Ame...  \n",
       "2    @bukhariawesome escort 3-4 orang no social dis...  \n",
       "3    You may not recognise what this is. This is ‘l...  \n",
       "4    Incidence of @Covid_19 positive cases in Chenn...  \n",
       "..                                                 ...  \n",
       "417  @CameronAtfield Shouldn’t be too hard to socia...  \n",
       "418  waiting for far right conservative pundits to ...  \n",
       "419  @DeadlineDavis I’m interested to see what happ...  \n",
       "420  @DrMartinJN That'll work, as long as the bisho...  \n",
       "421  We need to wash hands, social distance... spre...  \n",
       "\n",
       "[422 rows x 2 columns]"
      ]
     },
     "execution_count": 28,
     "metadata": {},
     "output_type": "execute_result"
    }
   ],
   "source": [
    "df_soc"
   ]
  },
  {
   "cell_type": "code",
   "execution_count": 34,
   "id": "c726a313",
   "metadata": {},
   "outputs": [
    {
     "name": "stderr",
     "output_type": "stream",
     "text": [
      "No model was supplied, defaulted to distilbert-base-uncased-finetuned-sst-2-english (https://huggingface.co/distilbert-base-uncased-finetuned-sst-2-english)\n"
     ]
    },
    {
     "data": {
      "application/vnd.jupyter.widget-view+json": {
       "model_id": "b9d3ebec211f4fc4842e94fd222fa55b",
       "version_major": 2,
       "version_minor": 0
      },
      "text/plain": [
       "Downloading:   0%|          | 0.00/629 [00:00<?, ?B/s]"
      ]
     },
     "metadata": {},
     "output_type": "display_data"
    },
    {
     "data": {
      "application/vnd.jupyter.widget-view+json": {
       "model_id": "b0946fe30e0d42489eccc85ffcb094df",
       "version_major": 2,
       "version_minor": 0
      },
      "text/plain": [
       "Downloading:   0%|          | 0.00/256M [00:00<?, ?B/s]"
      ]
     },
     "metadata": {},
     "output_type": "display_data"
    },
    {
     "name": "stderr",
     "output_type": "stream",
     "text": [
      "All model checkpoint layers were used when initializing TFDistilBertForSequenceClassification.\n",
      "\n",
      "All the layers of TFDistilBertForSequenceClassification were initialized from the model checkpoint at distilbert-base-uncased-finetuned-sst-2-english.\n",
      "If your task is similar to the task the model of the checkpoint was trained on, you can already use TFDistilBertForSequenceClassification for predictions without further training.\n"
     ]
    },
    {
     "data": {
      "application/vnd.jupyter.widget-view+json": {
       "model_id": "278858d4b90d4f54b1ddb78e8026178c",
       "version_major": 2,
       "version_minor": 0
      },
      "text/plain": [
       "Downloading:   0%|          | 0.00/48.0 [00:00<?, ?B/s]"
      ]
     },
     "metadata": {},
     "output_type": "display_data"
    },
    {
     "data": {
      "application/vnd.jupyter.widget-view+json": {
       "model_id": "77dbc45212a94df580ae7174dcf1aa87",
       "version_major": 2,
       "version_minor": 0
      },
      "text/plain": [
       "Downloading:   0%|          | 0.00/226k [00:00<?, ?B/s]"
      ]
     },
     "metadata": {},
     "output_type": "display_data"
    }
   ],
   "source": [
    "#download the pipline and the basic sentiment converter model into the system\n",
    "sentiment_clssifier = pipeline('sentiment-analysis')"
   ]
  },
  {
   "cell_type": "code",
   "execution_count": 64,
   "id": "b8380d25",
   "metadata": {},
   "outputs": [],
   "source": [
    "#Function which convert the people sentiment into the binary postive and negative sentiment by using the pretraine NLP pipeline\n",
    "def senti_anaalysis(dataset):\n",
    "    new_df = (dataset.assign(sentiment = lambda x:x['content'].apply(lambda s:sentiment_clssifier(s)))\n",
    "        .assign(label = lambda x:x['sentiment'].apply(lambda s: (s[0]['label'])),\n",
    "               score = lambda x:x['sentiment'].apply(lambda s: (s[0]['score']))))\n",
    "    new_df['label_encode']=label_encoder.fit_transform(new_df['label'])\n",
    "    return new_df"
   ]
  },
  {
   "cell_type": "code",
   "execution_count": 76,
   "id": "c24ae1a6",
   "metadata": {},
   "outputs": [],
   "source": [
    "#Converitn the face maske sentimetn into positve and negative sentiment\n",
    "face_msk_df = senti_anaalysis(df_faceM)"
   ]
  },
  {
   "cell_type": "code",
   "execution_count": 77,
   "id": "067e7ed5",
   "metadata": {},
   "outputs": [],
   "source": [
    "#Converitn the Vaccine mandate sentimetn into positve and negative sentiment\n",
    "vacine_df = senti_anaalysis(df_vacinne)"
   ]
  },
  {
   "cell_type": "code",
   "execution_count": 78,
   "id": "e942893f",
   "metadata": {},
   "outputs": [],
   "source": [
    "#Converitn the Social distancing sentimetn into positve and negative sentiment\n",
    "soc_df = senti_anaalysis(df_soc)"
   ]
  },
  {
   "cell_type": "code",
   "execution_count": 79,
   "id": "85edcbab",
   "metadata": {},
   "outputs": [],
   "source": [
    "#Create a data frame and call back the datafram into CSV\n",
    "face_msk_df.to_csv('face_mask_senti.csv', index=False)\n",
    "vacine_df.to_csv('soc_distance_senti.csv', index=False)\n",
    "soc_df.to_csv('vacinne_senti.csv', index=False)"
   ]
  },
  {
   "cell_type": "code",
   "execution_count": null,
   "id": "416b0e98",
   "metadata": {},
   "outputs": [],
   "source": [
    "s"
   ]
  },
  {
   "cell_type": "code",
   "execution_count": null,
   "id": "c5d12878",
   "metadata": {},
   "outputs": [],
   "source": []
  }
 ],
 "metadata": {
  "kernelspec": {
   "display_name": "Python 3",
   "language": "python",
   "name": "python3"
  },
  "language_info": {
   "codemirror_mode": {
    "name": "ipython",
    "version": 3
   },
   "file_extension": ".py",
   "mimetype": "text/x-python",
   "name": "python",
   "nbconvert_exporter": "python",
   "pygments_lexer": "ipython3",
   "version": "3.8.8"
  }
 },
 "nbformat": 4,
 "nbformat_minor": 5
}
